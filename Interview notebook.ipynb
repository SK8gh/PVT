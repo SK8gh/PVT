{
 "cells": [
  {
   "cell_type": "markdown",
   "id": "4e9b14a2",
   "metadata": {},
   "source": [
    "# Interview questions\n",
    "\n",
    "## 1. Python core"
   ]
  },
  {
   "cell_type": "markdown",
   "id": "c8406da6",
   "metadata": {},
   "source": [
    "__Q1.__                  Name all Python native types you know"
   ]
  },
  {
   "cell_type": "markdown",
   "id": "02627f16",
   "metadata": {},
   "source": [
    "__Q2.__ What is the difference between a list and a tuple ?"
   ]
  },
  {
   "cell_type": "markdown",
   "id": "f6e34453",
   "metadata": {},
   "source": [
    "__Q3.__ What is a list comprehension? Write a list declaration containing the first 10 integers using the usual syntax, and the list comprehension syntax"
   ]
  },
  {
   "cell_type": "code",
   "execution_count": null,
   "id": "fa4064f7",
   "metadata": {},
   "outputs": [],
   "source": [
    "# Classic syntax\n",
    "arr = \n",
    "\n",
    "# List comprehension\n",
    "arr = "
   ]
  },
  {
   "cell_type": "markdown",
   "id": "ad1ff10a",
   "metadata": {},
   "source": [
    "__Q4.__ How do you handle exceptions in Python? Complete the following example"
   ]
  },
  {
   "cell_type": "code",
   "execution_count": 3,
   "id": "f07c2b8f",
   "metadata": {},
   "outputs": [
    {
     "ename": "ZeroDivisionError",
     "evalue": "float division by zero",
     "output_type": "error",
     "traceback": [
      "\u001b[0;31m---------------------------------------------------------------------------\u001b[0m",
      "\u001b[0;31mZeroDivisionError\u001b[0m                         Traceback (most recent call last)",
      "\u001b[0;32m/var/folders/23/1ny30znd3rngz83z0yc20wg80000gn/T/ipykernel_6394/2057601701.py\u001b[0m in \u001b[0;36m<module>\u001b[0;34m\u001b[0m\n\u001b[0;32m----> 1\u001b[0;31m \u001b[0mresult\u001b[0m \u001b[0;34m=\u001b[0m \u001b[0;36m1.0\u001b[0m \u001b[0;34m/\u001b[0m \u001b[0;36m0\u001b[0m\u001b[0;34m\u001b[0m\u001b[0;34m\u001b[0m\u001b[0m\n\u001b[0m",
      "\u001b[0;31mZeroDivisionError\u001b[0m: float division by zero"
     ]
    }
   ],
   "source": [
    "result = 1.0 / 0"
   ]
  },
  {
   "cell_type": "markdown",
   "id": "e213552a",
   "metadata": {},
   "source": [
    "__Q5.__ Can you define what a lambda function is. Write an example of lambda usage and explain the reasons to use or not use lambdas"
   ]
  },
  {
   "cell_type": "code",
   "execution_count": null,
   "id": "d45bf458",
   "metadata": {},
   "outputs": [],
   "source": [
    "# Regular function\n",
    "def ...\n",
    "\n",
    "# Lambda function"
   ]
  },
  {
   "cell_type": "markdown",
   "id": "6ae04a6b",
   "metadata": {},
   "source": [
    "__Q6.__ What is the keyword 'with' ? Write an example of usage of this keyword"
   ]
  },
  {
   "cell_type": "code",
   "execution_count": null,
   "id": "9bad1d53",
   "metadata": {},
   "outputs": [],
   "source": []
  },
  {
   "cell_type": "markdown",
   "id": "30b28b1f",
   "metadata": {},
   "source": [
    "__Q7.__ What is * args and ** kwargs ? Implement a bloc of code containing those \"keywords\""
   ]
  },
  {
   "cell_type": "code",
   "execution_count": 12,
   "id": "2392bead",
   "metadata": {},
   "outputs": [],
   "source": [
    "# *args, **kwargs\n",
    "..."
   ]
  },
  {
   "cell_type": "markdown",
   "id": "8e872d3b",
   "metadata": {},
   "source": [
    "## 2. Python Object-Oriented-Programming"
   ]
  },
  {
   "cell_type": "markdown",
   "id": "9b93d2b1",
   "metadata": {},
   "source": [
    "__Q1.__ What is OOP ? What are the main concepts of OOP ?"
   ]
  },
  {
   "cell_type": "markdown",
   "id": "e1e43b13",
   "metadata": {},
   "source": [
    "__Q2.__ What is the base class in Python ?"
   ]
  },
  {
   "cell_type": "markdown",
   "id": "86c60732",
   "metadata": {},
   "source": [
    "__Q3.__ What methods do the base class implements ? Find a way to print all those methods"
   ]
  },
  {
   "cell_type": "code",
   "execution_count": 7,
   "id": "91e8ac12",
   "metadata": {},
   "outputs": [],
   "source": [
    "# Print all the methods of the base class\n",
    "\n",
    "..."
   ]
  },
  {
   "cell_type": "markdown",
   "id": "6eabc509",
   "metadata": {},
   "source": [
    "__Q4.__ What is the difference between __'init'__ and __'new'__ ?"
   ]
  },
  {
   "cell_type": "markdown",
   "id": "1c2e2785",
   "metadata": {},
   "source": [
    "__Q5.__ Explain how the super() function works, and how it resolves the method resolution order (MRO) in a multiple inheritance scenario"
   ]
  },
  {
   "cell_type": "markdown",
   "id": "f170e077",
   "metadata": {},
   "source": [
    "__Q6.__ What does the __getattribute__ method do?"
   ]
  },
  {
   "cell_type": "markdown",
   "id": "57872e3b",
   "metadata": {},
   "source": [
    "__Q7.__ What is a static method? Implement a static method 'random_integer' for the class below"
   ]
  },
  {
   "cell_type": "code",
   "execution_count": 9,
   "id": "3647140b",
   "metadata": {},
   "outputs": [],
   "source": [
    "class RandomNumberGenerator:\n",
    "    def __init__(self, seed=None):\n",
    "        self.seed = seed\n",
    "    \n",
    "    # Implementation of the random_integer method\n",
    "    def ..."
   ]
  },
  {
   "cell_type": "markdown",
   "id": "8f6d83c1",
   "metadata": {},
   "source": [
    "__Q8.__ In the Person class defined below, write an implementation that allows the access to all attributes except the 'criminal_record' (raise the appropriate exception when trying to access this attribute)"
   ]
  },
  {
   "cell_type": "code",
   "execution_count": 24,
   "id": "29537427",
   "metadata": {},
   "outputs": [
    {
     "name": "stdout",
     "output_type": "stream",
     "text": [
      "No exception was raised...\n"
     ]
    }
   ],
   "source": [
    "# First, what is the appropriate exception to be raised ?\n",
    "appropriate_exception = AttributeError\n",
    "\n",
    "class Person:\n",
    "    def __init__(self, first_name, family_name, criminal_record):\n",
    "        # Initializing attribute values\n",
    "        self.first_name = first_name\n",
    "        self.family_name = family_name\n",
    "        self.criminal_record = criminal_record\n",
    "    \n",
    "\n",
    "james = Person(first_name='James', \n",
    "               family_name='Bond',\n",
    "               criminal_record={'theft': (2021, 'London', 'Stole an Aston Martin DB10'),\n",
    "                                'NSA hack': (2022, 'Deauville', 'Stole 10GB of data from the NSA')})\n",
    "\n",
    "# The access to 'first_name' and 'family_name' must be allowed\n",
    "james.first_name, james.family_name\n",
    "\n",
    "try:\n",
    "    james.criminal_record\n",
    "except Exception as e:\n",
    "    # Checking that the Exception has the right type\n",
    "    assert isinstance(e, appropriate_exception)\n",
    "    \n",
    "    print(\"Unable to access the criminal record\")\n",
    "else:\n",
    "    print('No exception was raised...')"
   ]
  },
  {
   "cell_type": "markdown",
   "id": "b6361827",
   "metadata": {},
   "source": [
    "## 3. Algo"
   ]
  },
  {
   "cell_type": "markdown",
   "id": "cfde6285",
   "metadata": {},
   "source": [
    "__Q1.__ Given a list of integers, find all the pairs of integers $(i, j)$ such that $x_i + x_j = 0$ and $i <= j$"
   ]
  },
  {
   "cell_type": "code",
   "execution_count": 48,
   "id": "2397ffa5",
   "metadata": {},
   "outputs": [],
   "source": [
    "def solve(integers):\n",
    "    indexes = []\n",
    "    \n",
    "    # Implement your solution here...\n",
    "\n",
    "    return indexes"
   ]
  },
  {
   "cell_type": "code",
   "execution_count": 49,
   "id": "498fc0ea",
   "metadata": {},
   "outputs": [
    {
     "ename": "AssertionError",
     "evalue": "",
     "output_type": "error",
     "traceback": [
      "\u001b[0;31m---------------------------------------------------------------------------\u001b[0m",
      "\u001b[0;31mAssertionError\u001b[0m                            Traceback (most recent call last)",
      "\u001b[0;32m/var/folders/23/1ny30znd3rngz83z0yc20wg80000gn/T/ipykernel_6394/1800030504.py\u001b[0m in \u001b[0;36m<module>\u001b[0;34m\u001b[0m\n\u001b[1;32m      6\u001b[0m \u001b[0mexpected_solution\u001b[0m \u001b[0;34m=\u001b[0m \u001b[0;34m[\u001b[0m\u001b[0;34m(\u001b[0m\u001b[0;36m0\u001b[0m\u001b[0;34m,\u001b[0m \u001b[0;36m1\u001b[0m\u001b[0;34m)\u001b[0m\u001b[0;34m,\u001b[0m \u001b[0;34m(\u001b[0m\u001b[0;36m2\u001b[0m\u001b[0;34m,\u001b[0m \u001b[0;36m2\u001b[0m\u001b[0;34m)\u001b[0m\u001b[0;34m]\u001b[0m\u001b[0;34m\u001b[0m\u001b[0;34m\u001b[0m\u001b[0m\n\u001b[1;32m      7\u001b[0m \u001b[0;34m\u001b[0m\u001b[0m\n\u001b[0;32m----> 8\u001b[0;31m \u001b[0;32massert\u001b[0m \u001b[0msolution\u001b[0m \u001b[0;34m==\u001b[0m \u001b[0mexpected_solution\u001b[0m\u001b[0;34m\u001b[0m\u001b[0;34m\u001b[0m\u001b[0m\n\u001b[0m",
      "\u001b[0;31mAssertionError\u001b[0m: "
     ]
    }
   ],
   "source": [
    "# Testing the solution\n",
    "integers = [4, -4, 0, 1, -11]\n",
    "\n",
    "solution = solve(integers)\n",
    "    \n",
    "expected_solution = [(0, 1), (2, 2)]\n",
    "\n",
    "assert solution == expected_solution"
   ]
  },
  {
   "cell_type": "markdown",
   "id": "785087ee",
   "metadata": {},
   "source": [
    "__Q2.__ Given a string, find the length of the longest substring without repeating characters"
   ]
  },
  {
   "cell_type": "code",
   "execution_count": 52,
   "id": "74020eda",
   "metadata": {},
   "outputs": [
    {
     "ename": "AssertionError",
     "evalue": "",
     "output_type": "error",
     "traceback": [
      "\u001b[0;31m---------------------------------------------------------------------------\u001b[0m",
      "\u001b[0;31mAssertionError\u001b[0m                            Traceback (most recent call last)",
      "\u001b[0;32m/var/folders/23/1ny30znd3rngz83z0yc20wg80000gn/T/ipykernel_6394/3517335781.py\u001b[0m in \u001b[0;36m<module>\u001b[0;34m\u001b[0m\n\u001b[1;32m     14\u001b[0m \u001b[0mexpected_solution\u001b[0m \u001b[0;34m=\u001b[0m \u001b[0;36m3\u001b[0m\u001b[0;34m\u001b[0m\u001b[0;34m\u001b[0m\u001b[0m\n\u001b[1;32m     15\u001b[0m \u001b[0;34m\u001b[0m\u001b[0m\n\u001b[0;32m---> 16\u001b[0;31m \u001b[0;32massert\u001b[0m \u001b[0msolution\u001b[0m \u001b[0;34m==\u001b[0m \u001b[0mexpected_solution\u001b[0m\u001b[0;34m\u001b[0m\u001b[0;34m\u001b[0m\u001b[0m\n\u001b[0m",
      "\u001b[0;31mAssertionError\u001b[0m: "
     ]
    }
   ],
   "source": [
    "def solve(s):\n",
    "    # Initialize pointers and max_length\n",
    "    max_length = 0\n",
    "    \n",
    "    # Implement your solution here...\n",
    "    \n",
    "    return max_length\n",
    "\n",
    "# Example usage:\n",
    "string = \"abcabcbb\"\n",
    "\n",
    "solution = solve(string)\n",
    "\n",
    "expected_solution = 3\n",
    "\n",
    "assert solution == expected_solution"
   ]
  },
  {
   "cell_type": "code",
   "execution_count": null,
   "id": "1303652a",
   "metadata": {},
   "outputs": [],
   "source": []
  }
 ],
 "metadata": {
  "kernelspec": {
   "display_name": "Python 3 (ipykernel)",
   "language": "python",
   "name": "python3"
  },
  "language_info": {
   "codemirror_mode": {
    "name": "ipython",
    "version": 3
   },
   "file_extension": ".py",
   "mimetype": "text/x-python",
   "name": "python",
   "nbconvert_exporter": "python",
   "pygments_lexer": "ipython3",
   "version": "3.9.7"
  }
 },
 "nbformat": 4,
 "nbformat_minor": 5
}
